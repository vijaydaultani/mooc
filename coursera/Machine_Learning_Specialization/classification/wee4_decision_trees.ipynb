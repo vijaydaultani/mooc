{
 "cells": [
  {
   "cell_type": "markdown",
   "metadata": {},
   "source": [
    "# Identifying safe loans with decision trees"
   ]
  },
  {
   "cell_type": "markdown",
   "metadata": {},
   "source": [
    "## Load Lending Club dataset\n",
    "## Exploring some features\n",
    "## Look how data is distributed\n",
    "## Exploring the target column\n",
    "## Defining Features for the classification algorithm\n",
    "## Sample data to balance classes\n",
    "## Split data into training and validation sets\n",
    "## Use decision tree to build a classifier\n",
    "## Visualizing a learned model\n",
    "## Making predicitions using decision tree\n",
    "## Explore label predictions\n",
    "## Explore probability predictions\n",
    "## Visualize the prediciton on a tree\n",
    "## Evaluating accuracy of the decision tree model\n",
    "## Evaluation accuracy of a compled decision tree model\n",
    "## Quantifying the cost of mistakes"
   ]
  },
  {
   "cell_type": "code",
   "execution_count": null,
   "metadata": {
    "collapsed": true
   },
   "outputs": [],
   "source": []
  }
 ],
 "metadata": {
  "kernelspec": {
   "display_name": "Python 2",
   "language": "python",
   "name": "python2"
  },
  "language_info": {
   "codemirror_mode": {
    "name": "ipython",
    "version": 2
   },
   "file_extension": ".py",
   "mimetype": "text/x-python",
   "name": "python",
   "nbconvert_exporter": "python",
   "pygments_lexer": "ipython2",
   "version": "2.7.12"
  }
 },
 "nbformat": 4,
 "nbformat_minor": 0
}
